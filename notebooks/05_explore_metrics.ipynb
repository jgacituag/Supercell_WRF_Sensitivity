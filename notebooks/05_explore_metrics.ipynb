{
 "cells": [
  {
   "cell_type": "code",
   "execution_count": 1,
   "id": "3df96bfc",
   "metadata": {},
   "outputs": [
    {
     "ename": "FileNotFoundError",
     "evalue": "[Errno 2] No such file or directory: '/home/jorge.gacitua/salidas/Supercell_WRF_Sensitivity/outputs/sobol_exp_default/wrf_results/sample_00158/metrics.pkl'",
     "output_type": "error",
     "traceback": [
      "\u001b[31m---------------------------------------------------------------------------\u001b[39m",
      "\u001b[31mFileNotFoundError\u001b[39m                         Traceback (most recent call last)",
      "\u001b[36mCell\u001b[39m\u001b[36m \u001b[39m\u001b[32mIn[1]\u001b[39m\u001b[32m, line 9\u001b[39m\n\u001b[32m      7\u001b[39m sample = \u001b[38;5;28mstr\u001b[39m(i).zfill(\u001b[32m5\u001b[39m)\n\u001b[32m      8\u001b[39m file = \u001b[33mf\u001b[39m\u001b[33m\"\u001b[39m\u001b[33m/home/jorge.gacitua/salidas/Supercell_WRF_Sensitivity/outputs/sobol_exp_default/wrf_results/sample_\u001b[39m\u001b[38;5;132;01m{\u001b[39;00msample\u001b[38;5;132;01m}\u001b[39;00m\u001b[33m/metrics.pkl\u001b[39m\u001b[33m\"\u001b[39m\n\u001b[32m----> \u001b[39m\u001b[32m9\u001b[39m \u001b[38;5;28;01mwith\u001b[39;00m \u001b[38;5;28;43mopen\u001b[39;49m\u001b[43m(\u001b[49m\u001b[43mfile\u001b[49m\u001b[43m,\u001b[49m\u001b[43m \u001b[49m\u001b[33;43m\"\u001b[39;49m\u001b[33;43mrb\u001b[39;49m\u001b[33;43m\"\u001b[39;49m\u001b[43m)\u001b[49m \u001b[38;5;28;01mas\u001b[39;00m f:\n\u001b[32m     10\u001b[39m     data = pickle.load(f)\n\u001b[32m     11\u001b[39m     max_updraft.append(data[\u001b[33m'\u001b[39m\u001b[33mmax_qgraup\u001b[39m\u001b[33m'\u001b[39m])\n",
      "\u001b[36mFile \u001b[39m\u001b[32m~/salidas/miniconda3/envs/wrf-sensitivity/lib/python3.11/site-packages/IPython/core/interactiveshell.py:343\u001b[39m, in \u001b[36m_modified_open\u001b[39m\u001b[34m(file, *args, **kwargs)\u001b[39m\n\u001b[32m    336\u001b[39m \u001b[38;5;28;01mif\u001b[39;00m file \u001b[38;5;129;01min\u001b[39;00m {\u001b[32m0\u001b[39m, \u001b[32m1\u001b[39m, \u001b[32m2\u001b[39m}:\n\u001b[32m    337\u001b[39m     \u001b[38;5;28;01mraise\u001b[39;00m \u001b[38;5;167;01mValueError\u001b[39;00m(\n\u001b[32m    338\u001b[39m         \u001b[33mf\u001b[39m\u001b[33m\"\u001b[39m\u001b[33mIPython won\u001b[39m\u001b[33m'\u001b[39m\u001b[33mt let you open fd=\u001b[39m\u001b[38;5;132;01m{\u001b[39;00mfile\u001b[38;5;132;01m}\u001b[39;00m\u001b[33m by default \u001b[39m\u001b[33m\"\u001b[39m\n\u001b[32m    339\u001b[39m         \u001b[33m\"\u001b[39m\u001b[33mas it is likely to crash IPython. If you know what you are doing, \u001b[39m\u001b[33m\"\u001b[39m\n\u001b[32m    340\u001b[39m         \u001b[33m\"\u001b[39m\u001b[33myou can use builtins\u001b[39m\u001b[33m'\u001b[39m\u001b[33m open.\u001b[39m\u001b[33m\"\u001b[39m\n\u001b[32m    341\u001b[39m     )\n\u001b[32m--> \u001b[39m\u001b[32m343\u001b[39m \u001b[38;5;28;01mreturn\u001b[39;00m \u001b[43mio_open\u001b[49m\u001b[43m(\u001b[49m\u001b[43mfile\u001b[49m\u001b[43m,\u001b[49m\u001b[43m \u001b[49m\u001b[43m*\u001b[49m\u001b[43margs\u001b[49m\u001b[43m,\u001b[49m\u001b[43m \u001b[49m\u001b[43m*\u001b[49m\u001b[43m*\u001b[49m\u001b[43mkwargs\u001b[49m\u001b[43m)\u001b[49m\n",
      "\u001b[31mFileNotFoundError\u001b[39m: [Errno 2] No such file or directory: '/home/jorge.gacitua/salidas/Supercell_WRF_Sensitivity/outputs/sobol_exp_default/wrf_results/sample_00158/metrics.pkl'"
     ]
    }
   ],
   "source": [
    "import numpy as np\n",
    "import pickle\n",
    "max_updraft = []\n",
    "# from 000 to 549\n",
    "for i in range(550):\n",
    "    #sample index with leading zeros\n",
    "    sample = str(i).zfill(5)\n",
    "    file = f\"/home/jorge.gacitua/salidas/Supercell_WRF_Sensitivity/outputs/sobol_exp_default/wrf_results/sample_{sample}/metrics.pkl\"\n",
    "    with open(file, \"rb\") as f:\n",
    "        data = pickle.load(f)\n",
    "        max_updraft.append(data['max_qgraup'])\n",
    "\n",
    "print(max_updraft)\n",
    "print(np.min(max_updraft))\n",
    "print(np.max(max_updraft))\n",
    "print(np.mean(max_updraft))"
   ]
  },
  {
   "cell_type": "code",
   "execution_count": 4,
   "id": "c6e05eef",
   "metadata": {},
   "outputs": [],
   "source": [
    "asd = np.load(\"/home/jorge.gacitua/salidas/Supercell_WRF_Sensitivity/outputs/sobol_exp_default/soundings/viable_sample_ids.npy\")"
   ]
  },
  {
   "cell_type": "code",
   "execution_count": 9,
   "id": "8aea9bde",
   "metadata": {},
   "outputs": [
    {
     "data": {
      "text/plain": [
       "array([790, 791, 792, 793, 794, 795, 796])"
      ]
     },
     "execution_count": 9,
     "metadata": {},
     "output_type": "execute_result"
    }
   ],
   "source": [
    "asd[789:796]"
   ]
  }
 ],
 "metadata": {
  "kernelspec": {
   "display_name": "wrf-sensitivity",
   "language": "python",
   "name": "python3"
  },
  "language_info": {
   "codemirror_mode": {
    "name": "ipython",
    "version": 3
   },
   "file_extension": ".py",
   "mimetype": "text/x-python",
   "name": "python",
   "nbconvert_exporter": "python",
   "pygments_lexer": "ipython3",
   "version": "3.11.13"
  }
 },
 "nbformat": 4,
 "nbformat_minor": 5
}
